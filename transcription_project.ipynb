{
  "nbformat": 4,
  "nbformat_minor": 0,
  "metadata": {
    "colab": {
      "provenance": [],
      "gpuType": "T4"
    },
    "kernelspec": {
      "name": "python3",
      "display_name": "Python 3"
    },
    "language_info": {
      "name": "python"
    },
    "accelerator": "GPU"
  },
  "cells": [
    {
      "cell_type": "code",
      "execution_count": null,
      "metadata": {
        "colab": {
          "base_uri": "https://localhost:8080/"
        },
        "id": "KNS6ZN8VjhS1",
        "outputId": "5b18dfc5-b297-4d31-e350-422696f9b041"
      },
      "outputs": [
        {
          "output_type": "stream",
          "name": "stdout",
          "text": [
            "Requirement already satisfied: transformers in /usr/local/lib/python3.10/dist-packages (4.34.1)\n",
            "Requirement already satisfied: sentencepiece in /usr/local/lib/python3.10/dist-packages (0.1.99)\n",
            "Requirement already satisfied: p in /usr/local/lib/python3.10/dist-packages (1.4.0)\n",
            "Requirement already satisfied: filelock in /usr/local/lib/python3.10/dist-packages (from transformers) (3.12.4)\n",
            "Requirement already satisfied: huggingface-hub<1.0,>=0.16.4 in /usr/local/lib/python3.10/dist-packages (from transformers) (0.17.3)\n",
            "Requirement already satisfied: numpy>=1.17 in /usr/local/lib/python3.10/dist-packages (from transformers) (1.23.5)\n",
            "Requirement already satisfied: packaging>=20.0 in /usr/local/lib/python3.10/dist-packages (from transformers) (23.2)\n",
            "Requirement already satisfied: pyyaml>=5.1 in /usr/local/lib/python3.10/dist-packages (from transformers) (6.0.1)\n",
            "Requirement already satisfied: regex!=2019.12.17 in /usr/local/lib/python3.10/dist-packages (from transformers) (2023.6.3)\n",
            "Requirement already satisfied: requests in /usr/local/lib/python3.10/dist-packages (from transformers) (2.31.0)\n",
            "Requirement already satisfied: tokenizers<0.15,>=0.14 in /usr/local/lib/python3.10/dist-packages (from transformers) (0.14.1)\n",
            "Requirement already satisfied: safetensors>=0.3.1 in /usr/local/lib/python3.10/dist-packages (from transformers) (0.4.0)\n",
            "Requirement already satisfied: tqdm>=4.27 in /usr/local/lib/python3.10/dist-packages (from transformers) (4.66.1)\n",
            "Requirement already satisfied: click<8.0.0,>=7.1.2 in /usr/local/lib/python3.10/dist-packages (from p) (7.1.2)\n",
            "Requirement already satisfied: click-didyoumean<0.4.0,>=0.3.0 in /usr/local/lib/python3.10/dist-packages (from p) (0.3.0)\n",
            "Requirement already satisfied: fsspec in /usr/local/lib/python3.10/dist-packages (from huggingface-hub<1.0,>=0.16.4->transformers) (2023.6.0)\n",
            "Requirement already satisfied: typing-extensions>=3.7.4.3 in /usr/local/lib/python3.10/dist-packages (from huggingface-hub<1.0,>=0.16.4->transformers) (4.5.0)\n",
            "Requirement already satisfied: charset-normalizer<4,>=2 in /usr/local/lib/python3.10/dist-packages (from requests->transformers) (3.3.0)\n",
            "Requirement already satisfied: idna<4,>=2.5 in /usr/local/lib/python3.10/dist-packages (from requests->transformers) (3.4)\n",
            "Requirement already satisfied: urllib3<3,>=1.21.1 in /usr/local/lib/python3.10/dist-packages (from requests->transformers) (2.0.7)\n",
            "Requirement already satisfied: certifi>=2017.4.17 in /usr/local/lib/python3.10/dist-packages (from requests->transformers) (2023.7.22)\n"
          ]
        }
      ],
      "source": [
        "pip install transformers sentencepiece pytube moviepy faster-whisper"
      ]
    },
    {
      "cell_type": "code",
      "source": [
        "from transformers import WhisperProcessor, WhisperForConditionalGeneration\n",
        "from pytube import YouTube\n",
        "from moviepy.editor import VideoFileClip\n",
        "from scipy.io import wavfile\n",
        "import logging\n",
        "import typer\n",
        "from faster_whisper import WhisperModel\n",
        "\n",
        "processor = WhisperProcessor.from_pretrained(\"openai/whisper-large-v2\")\n",
        "model = WhisperForConditionalGeneration.from_pretrained(\"openai/whisper-large-v2\")\n",
        "model.config.forced_decoder_ids = None\n",
        "\n",
        "\n",
        "\n",
        "def download_youtube_video(url):\n",
        "    yt = YouTube(url)\n",
        "    stream = yt.streams.filter(only_audio=False, file_extension='mp4').first()\n",
        "    stream.download(output_path=\"/content/\", filename=\"input.mp4\")\n",
        "    video = VideoFileClip(\"/content/input.mp4\")\n",
        "    audio = video.audio\n",
        "    audio.write_audiofile(\"output.wav\", codec='pcm_s16le')\n",
        "\n",
        "def seconds_to_subtitle_time(seconds):\n",
        "    hours = int(seconds // 3600)\n",
        "    seconds %= 3600\n",
        "    minutes = int(seconds // 60)\n",
        "    seconds %= 60\n",
        "    milliseconds = int((seconds - int(seconds)) * 1000)\n",
        "    seconds = int(seconds)\n",
        "\n",
        "    return f\"{hours:02d}:{minutes:02d}:{seconds:02d},{milliseconds:03d}\"\n",
        "\n",
        "def transcribe(audio):\n",
        "    try:\n",
        "        model_size = \"large-v2\"\n",
        "        model = WhisperModel(model_size, device=\"cuda\", compute_type=\"float16\")\n",
        "        segments, info = model.transcribe(audio, beam_size=5)\n",
        "\n",
        "        output_file = \"/content/output.srt\"\n",
        "\n",
        "        i=0\n",
        "        srt=\"\"\n",
        "        transcript=\"\"\n",
        "        for segment in segments:\n",
        "            text = segment.text.lstrip()\n",
        "            transcript = transcript+text\n",
        "            i=i+1\n",
        "            srt = srt+\"%i\\n%s --> %s\\n%s\"%(i,seconds_to_subtitle_time(segment.start), seconds_to_subtitle_time(segment.end), text)+\"\\n\\n\"\n",
        "\n",
        "\n",
        "        with open(output_file, 'x+', encoding='utf-8') as f:\n",
        "            f.write(srt)\n",
        "        return transcript\n",
        "    except Exception as e:\n",
        "        logging.error(f\"Error while transcribing:{str(e)}\")\n",
        "        raise typer.Exit(1)\n",
        "\n",
        "\n",
        "\n",
        "download_youtube_video('https://www.youtube.com/watch?v=Qtmrp_4BKRQ')\n",
        "transcript=transcribe('/content/output.wav')\n"
      ],
      "metadata": {
        "colab": {
          "base_uri": "https://localhost:8080/"
        },
        "id": "iBXD2Nrzj42v",
        "outputId": "87e68801-16a0-4c8b-ede1-9ab8186365ac"
      },
      "execution_count": null,
      "outputs": [
        {
          "output_type": "stream",
          "name": "stdout",
          "text": [
            "MoviePy - Writing audio in output.wav\n"
          ]
        },
        {
          "output_type": "stream",
          "name": "stderr",
          "text": []
        },
        {
          "output_type": "stream",
          "name": "stdout",
          "text": [
            "MoviePy - Done.\n"
          ]
        }
      ]
    },
    {
      "cell_type": "code",
      "source": [
        "import textwrap\n",
        "\n",
        "line_width = 100\n",
        "\n",
        "\n",
        "transcript = textwrap.fill(transcript, width=line_width)"
      ],
      "metadata": {
        "id": "g24mGmP0_suv"
      },
      "execution_count": null,
      "outputs": []
    },
    {
      "cell_type": "code",
      "source": [
        "print(transcript)\n"
      ],
      "metadata": {
        "colab": {
          "base_uri": "https://localhost:8080/"
        },
        "id": "GWkjs-PK_SQR",
        "outputId": "65df483f-e588-456f-89d8-ad76f73d90f7"
      },
      "execution_count": null,
      "outputs": [
        {
          "output_type": "stream",
          "name": "stdout",
          "text": [
            "It's time! Let's reveal the 12,024 human-era calendar with a big bang!The Kurzgesagt calendar is\n",
            "special because we're adding 10,000 years to include all of humanity, no matter their culture or\n",
            "origin.12,000 years ago, humans first started working together on a larger scale, laying the\n",
            "foundation for civilization and the future of us all.A much better representation of how far our\n",
            "species has come.This year, we're looking at the cosmos and all the possible life that could be\n",
            "thriving on myriads of worlds,hosting radically different animals and beings from the ones on\n",
            "Earth.Where in the universe might life exist? And how would different cosmic environments affect the\n",
            "basic rules of life?Join us in 12,024 and find out!Explore strange cosmic habitats and\n",
            "extraterrestrial lifeforms on 12 awe-inspiring pages.There's also lots of room for you to keep track\n",
            "of your life here on Earth.Add some serious space magnificence to your home, but be careful.The\n",
            "extremely radiant cover may blind you.Get the calendar now before it sells out.We also have bundles\n",
            "and special calendar deals with some of your favorite products.Thank you so much to all of the\n",
            "thousands of birbs who get the calendar every year.With every purchase, you support the Kurzgesagt\n",
            "division of sparking curiosity and inspiring people all around the world.We wish you an epic year\n",
            "12,024!\n"
          ]
        }
      ]
    }
  ]
}